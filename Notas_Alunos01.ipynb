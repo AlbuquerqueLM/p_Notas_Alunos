{
  "nbformat": 4,
  "nbformat_minor": 0,
  "metadata": {
    "colab": {
      "provenance": [],
      "authorship_tag": "ABX9TyOwd2Ah1iZWoxgR5BQg/Bxz",
      "include_colab_link": true
    },
    "kernelspec": {
      "name": "python3",
      "display_name": "Python 3"
    },
    "language_info": {
      "name": "python"
    }
  },
  "cells": [
    {
      "cell_type": "markdown",
      "metadata": {
        "id": "view-in-github",
        "colab_type": "text"
      },
      "source": [
        "<a href=\"https://colab.research.google.com/github/AlbuquerqueLM/p_Notas_Alunos/blob/main/Notas_Alunos01.ipynb\" target=\"_parent\"><img src=\"https://colab.research.google.com/assets/colab-badge.svg\" alt=\"Open In Colab\"/></a>"
      ]
    },
    {
      "cell_type": "code",
      "execution_count": null,
      "metadata": {
        "colab": {
          "base_uri": "https://localhost:8080/"
        },
        "id": "X9MA00xRqB_P",
        "outputId": "b3249355-6fa2-4d77-fbf2-b43cba2501e1"
      },
      "outputs": [
        {
          "output_type": "stream",
          "name": "stdout",
          "text": [
            "Sistema de Gestão de Notas de Alunos\n",
            "Digite a nota do aluno (ou -1 para finalizar): 3\n",
            "Digite a nota do aluno (ou -1 para finalizar): 6\n",
            "Digite a nota do aluno (ou -1 para finalizar): 5\n",
            "Digite a nota do aluno (ou -1 para finalizar): 2\n",
            "Digite a nota do aluno (ou -1 para finalizar): 3\n",
            "Digite a nota do aluno (ou -1 para finalizar): 5\n",
            "Digite a nota do aluno (ou -1 para finalizar): 1\n",
            "Digite a nota do aluno (ou -1 para finalizar): 0\n",
            "Digite a nota do aluno (ou -1 para finalizar): -1\n",
            "\n",
            "===== RELATÓRIO FINAL =====\n",
            "Notas inseridas: [3.0, 6.0, 5.0, 2.0, 3.0, 5.0, 1.0, 0.0]\n",
            "Média: 3.12\n",
            "Situação: Reprovado!! ❌\n",
            "===========================\n"
          ]
        }
      ],
      "source": [
        "# Aqui fica a função que será usada para cadastrar as notas dos alunos\n",
        "def cadastrar_notas():\n",
        "    notas = []\n",
        "    while True:\n",
        "        try:\n",
        "            nota = float(input(\"Digite a nota do aluno (ou -1 para finalizar): \"))\n",
        "\n",
        "            # Coloquei um break para impedir que o código continue e gere os resultados\n",
        "            if nota == -1:\n",
        "                break\n",
        "\n",
        "            # Aqui estou verificando se existe um intervalo válido para as notas\n",
        "            if 0 <= nota <= 10:\n",
        "                notas.append(nota)\n",
        "            else:\n",
        "                print(\"Atenção: A nota deve estar entre 0 e 10\")\n",
        "\n",
        "        except ValueError:\n",
        "            print(\"Atenção: Entrada inválida. Digitar apenas números.\")\n",
        "\n",
        "    return notas\n",
        "\n",
        "\n",
        "# Aqui eu vou colocar uma função para que a média possa ser calculada.\n",
        "def calcular_media(notas):\n",
        "    if len(notas) == 0:  # ==0 para evitar divisões por zero\n",
        "        return 0\n",
        "    return sum(notas) / len(notas)\n",
        "\n",
        "\n",
        "# Nas linhas abaixo está uma função com if para poder determinar qual vai ser a situação do aluno\n",
        "def determinar_situacao(media):\n",
        "    if media >= 7:\n",
        "        return \"Aprovado!! ✅\"\n",
        "    else:\n",
        "        return \"Reprovado!! ❌\"\n",
        "\n",
        "\n",
        "# Prints no final da função que vou colocar para exibir os relatórios finais da situação total do aluno\n",
        "def exibir_relatorio(notas, media, situacao):\n",
        "    print(\"\\n===== RELATÓRIO FINAL =====\")\n",
        "    print(f\"Notas inseridas: {notas}\")\n",
        "    print(f\"Média: {media:.2f}\")\n",
        "    print(f\"Situação: {situacao}\")\n",
        "    print(\"===========================\")\n",
        "\n",
        "\n",
        "# o programa em si:\n",
        "def main():\n",
        "    print(\"Sistema de Gestão de Notas de Alunos\")\n",
        "    notas = cadastrar_notas()\n",
        "    media = calcular_media(notas)\n",
        "    situacao = determinar_situacao(media)\n",
        "    exibir_relatorio(notas, media, situacao)\n",
        "\n",
        "\n",
        "# main eentra para execução do programa\n",
        "main()\n"
      ]
    }
  ]
}